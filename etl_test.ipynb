{
 "cells": [
  {
   "cell_type": "code",
   "execution_count": 13,
   "metadata": {
    "collapsed": true,
    "pycharm": {
     "is_executing": false
    }
   },
   "outputs": [],
   "source": [
    "import configparser\n",
    "from pyspark.sql import SparkSession\n",
    "from pyspark.sql.functions import dayofmonth, hour, \\\n",
    "    dayofweek, month, year, weekofyear"
   ]
  },
  {
   "cell_type": "code",
   "execution_count": 3,
   "outputs": [],
   "source": [
    "conf_parser = configparser.ConfigParser()\n",
    "with open('etl_config.cfg', 'r') as config_file:\n",
    "    conf_parser.read_file(config_file)\n",
    "\n",
    "aws_access = conf_parser['AWS']['AWS_ACCESS_KEY']\n",
    "aws_secret = conf_parser['AWS']['AWS_SECRET_KEY']"
   ],
   "metadata": {
    "collapsed": false,
    "pycharm": {
     "name": "#%%\n",
     "is_executing": false
    }
   }
  },
  {
   "cell_type": "code",
   "execution_count": 14,
   "outputs": [],
   "source": [
    "spark = SparkSession.builder.config(\"spark.jars.packages\",\n",
    "                                    \"org.apache.hadoop:hadoop-aws:2.7.0\")\\\n",
    "    .getOrCreate()"
   ],
   "metadata": {
    "collapsed": false,
    "pycharm": {
     "name": "#%%\n",
     "is_executing": false
    }
   }
  },
  {
   "cell_type": "code",
   "execution_count": 15,
   "outputs": [],
   "source": [
    "# Load data from json files\n",
    "log_data = spark.read.json(path='log-data/*')\n",
    "song_data = spark.read.json(path='song_data/*/*/*/*.json')"
   ],
   "metadata": {
    "collapsed": false,
    "pycharm": {
     "name": "#%%\n",
     "is_executing": false
    }
   }
  },
  {
   "cell_type": "code",
   "execution_count": 4,
   "outputs": [
    {
     "name": "stdout",
     "text": [
      "+------------------+---------------+-----------------+----------------+--------------------+---------+---------+------------------+--------------------+----+\n|         artist_id|artist_latitude|  artist_location|artist_longitude|         artist_name| duration|num_songs|           song_id|               title|year|\n+------------------+---------------+-----------------+----------------+--------------------+---------+---------+------------------+--------------------+----+\n|ARDR4AC1187FB371A1|           null|                 |            null|Montserrat Caball...|511.16363|        1|SOBAYLL12A8C138AF9|Sono andati? Fing...|   0|\n|AREBBGV1187FB523D2|           null|      Houston, TX|            null|Mike Jones (Featu...|173.66159|        1|SOOLYAZ12A6701F4A6|Laws Patrolling (...|   0|\n|ARMAC4T1187FB3FA4C|       40.82624|Morris Plains, NJ|       -74.47995|The Dillinger Esc...|207.77751|        1|SOBBUGU12A8C13E95D|Setting Fire to S...|2004|\n|ARPBNLO1187FB3D52F|       40.71455|     New York, NY|       -74.00712|            Tiny Tim| 43.36281|        1|SOAOIBZ12AB01815BE|I Hold Your Hand ...|2000|\n|ARDNS031187B9924F0|       32.67828|          Georgia|       -83.22295|          Tim Wilson|186.48771|        1|SONYPOM12A8C13B2D7|I Think My Wife I...|2005|\n+------------------+---------------+-----------------+----------------+--------------------+---------+---------+------------------+--------------------+----+\nonly showing top 5 rows\n\n"
     ],
     "output_type": "stream"
    }
   ],
   "source": [
    "song_data.show(n=5)"
   ],
   "metadata": {
    "collapsed": false,
    "pycharm": {
     "name": "#%%\n",
     "is_executing": false
    }
   }
  },
  {
   "cell_type": "code",
   "execution_count": 5,
   "outputs": [
    {
     "name": "stdout",
     "text": [
      "+-----------+---------+---------+------+-------------+--------+---------+-----+--------------------+------+--------+-----------------+---------+---------------+------+-------------+--------------------+------+\n|     artist|     auth|firstName|gender|itemInSession|lastName|   length|level|            location|method|    page|     registration|sessionId|           song|status|           ts|           userAgent|userId|\n+-----------+---------+---------+------+-------------+--------+---------+-----+--------------------+------+--------+-----------------+---------+---------------+------+-------------+--------------------+------+\n|   Harmonia|Logged In|     Ryan|     M|            0|   Smith|655.77751| free|San Jose-Sunnyval...|   PUT|NextSong|1.541016707796E12|      583|  Sehr kosmisch|   200|1542241826796|\"Mozilla/5.0 (X11...|    26|\n|The Prodigy|Logged In|     Ryan|     M|            1|   Smith|260.07465| free|San Jose-Sunnyval...|   PUT|NextSong|1.541016707796E12|      583|The Big Gundown|   200|1542242481796|\"Mozilla/5.0 (X11...|    26|\n|      Train|Logged In|     Ryan|     M|            2|   Smith|205.45261| free|San Jose-Sunnyval...|   PUT|NextSong|1.541016707796E12|      583|       Marry Me|   200|1542242741796|\"Mozilla/5.0 (X11...|    26|\n|       null|Logged In|    Wyatt|     M|            0|   Scott|     null| free|Eureka-Arcata-For...|   GET|    Home|1.540872073796E12|      563|           null|   200|1542247071796|Mozilla/5.0 (Wind...|     9|\n|       null|Logged In|   Austin|     M|            0| Rosales|     null| free|New York-Newark-J...|   GET|    Home|1.541059521796E12|      521|           null|   200|1542252577796|Mozilla/5.0 (Wind...|    12|\n+-----------+---------+---------+------+-------------+--------+---------+-----+--------------------+------+--------+-----------------+---------+---------------+------+-------------+--------------------+------+\nonly showing top 5 rows\n\n"
     ],
     "output_type": "stream"
    }
   ],
   "source": [
    "log_data.show(n=5)"
   ],
   "metadata": {
    "collapsed": false,
    "pycharm": {
     "name": "#%%\n",
     "is_executing": false
    }
   }
  },
  {
   "cell_type": "code",
   "execution_count": 6,
   "outputs": [],
   "source": [
    "song_data.createOrReplaceTempView('song_data')\n",
    "log_data.createOrReplaceTempView('log_data')"
   ],
   "metadata": {
    "collapsed": false,
    "pycharm": {
     "name": "#%%\n",
     "is_executing": false
    }
   }
  },
  {
   "cell_type": "code",
   "execution_count": 19,
   "outputs": [
    {
     "name": "stdout",
     "text": [
      "+-------+----------+---------+------+-----+\n|user_id|first_name|last_name|gender|level|\n+-------+----------+---------+------+-----+\n|     98|    Jordyn|   Powell|     F| free|\n|     34|    Evelin|    Ayala|     F| free|\n|     85|   Kinsley|    Young|     F| paid|\n|     38|    Gianna|    Jones|     F| free|\n|     85|   Kinsley|    Young|     F| free|\n+-------+----------+---------+------+-----+\nonly showing top 5 rows\n\n"
     ],
     "output_type": "stream"
    }
   ],
   "source": [
    "# Extract users table data and store in parquet format\n",
    "\n",
    "users_extract = \"\"\"\n",
    "SELECT DISTINCT userId AS user_id,\n",
    "    firstName AS first_name,\n",
    "    lastName AS last_name,\n",
    "    gender,\n",
    "    level\n",
    "FROM log_data\n",
    "\"\"\"\n",
    "users_table_data = spark.sql(users_extract)\n",
    "users_table_data.write.parquet('Transformed_data/users.parquet')\n"
   ],
   "metadata": {
    "collapsed": false,
    "pycharm": {
     "name": "#%%\n",
     "is_executing": false
    }
   }
  },
  {
   "cell_type": "code",
   "execution_count": 32,
   "outputs": [],
   "source": [
    "# Extract songs table data and store it in parquet format\n",
    "\n",
    "songs_extract = \"\"\"\n",
    "SELECT DISTINCT song_id,\n",
    "    title,\n",
    "    artist_id,\n",
    "    year,\n",
    "    duration\n",
    "FROM song_data\n",
    "\"\"\"\n",
    "songs_tbl_data = spark.sql(songs_extract)\n",
    "songs_tbl_data.write.parquet(\"Transformed_data/songs.parquet\")"
   ],
   "metadata": {
    "collapsed": false,
    "pycharm": {
     "name": "#%%\n",
     "is_executing": false
    }
   }
  },
  {
   "cell_type": "code",
   "execution_count": 24,
   "outputs": [],
   "source": [
    "# Extract artists table data and store it in parquet format\n",
    "\n",
    "artists_extract = \"\"\"\n",
    "SELECT DISTINCT artist_id,\n",
    "    artist_name AS name,\n",
    "    artist_location AS location,\n",
    "    artist_latitude AS lattitude,\n",
    "    artist_longitude AS longitude\n",
    "FROM song_data\n",
    "\"\"\"\n",
    "artists_tbl_data = spark.sql(artists_extract)\n",
    "artists_tbl_data.write.parquet(\"Transformed_data/artists.parquet\")"
   ],
   "metadata": {
    "collapsed": false,
    "pycharm": {
     "name": "#%%\n",
     "is_executing": false
    }
   }
  },
  {
   "cell_type": "code",
   "execution_count": 20,
   "outputs": [
    {
     "name": "stdout",
     "text": [
      "+-------------------+----+---+----+-----+----+-------+\n|         start_time|hour|day|week|month|year|weekday|\n+-------------------+----+---+----+-----+----+-------+\n|2018-11-14 07:30:26|   7| 14|  46|   11|2018|  false|\n|2018-11-14 07:41:21|   7| 14|  46|   11|2018|  false|\n|2018-11-14 07:45:41|   7| 14|  46|   11|2018|  false|\n|2018-11-14 08:57:51|   8| 14|  46|   11|2018|  false|\n|2018-11-14 10:29:37|  10| 14|  46|   11|2018|  false|\n+-------------------+----+---+----+-----+----+-------+\nonly showing top 5 rows\n\nroot\n |-- start_time: timestamp (nullable = true)\n |-- hour: integer (nullable = true)\n |-- day: integer (nullable = true)\n |-- week: integer (nullable = true)\n |-- month: integer (nullable = true)\n |-- year: integer (nullable = true)\n |-- weekday: boolean (nullable = false)\n\n"
     ],
     "output_type": "stream"
    }
   ],
   "source": [
    "# Extract time table data and store it in parquet format\n",
    "\n",
    "time_extract = \"\"\"\n",
    "SELECT cast(t1.timestamp_temp AS timestamp) AS start_time,\n",
    "    hour(t1.timestamp_temp) AS hour,\n",
    "    dayofmonth(t1.timestamp_temp) AS day,\n",
    "    weekofyear(t1.timestamp_temp) AS week,\n",
    "    month(t1.timestamp_temp) AS month,\n",
    "    year(t1.timestamp_temp) AS year,\n",
    "    CASE WHEN dayofweek(t1.timestamp_temp) IN (6, 7) THEN True ELSE False END\n",
    "     AS \n",
    "    weekday\n",
    "FROM \n",
    "    (SELECT from_unixtime(ts/1000, 'YYYY-MM-dd hh:mm:ss') AS timestamp_temp \n",
    "    FROM log_data) t1\n",
    "\"\"\"\n",
    "time_tbl_data = spark.sql(time_extract)\n",
    "time_tbl_data.show(5)\n",
    "time_tbl_data.printSchema()\n",
    "# time_tbl_data.write.parquet(\"Transformed_data/time.parquet\")\n"
   ],
   "metadata": {
    "collapsed": false,
    "pycharm": {
     "name": "#%%\n",
     "is_executing": false
    }
   }
  },
  {
   "cell_type": "code",
   "execution_count": 21,
   "outputs": [
    {
     "name": "stdout",
     "text": [
      "+-------------------+----+---+----+-----+----+-------+\n|         start_time|hour|day|week|month|year|weekday|\n+-------------------+----+---+----+-----+----+-------+\n|2018-11-14 07:30:26|   7| 14|  46|   11|2018|  false|\n|2018-11-14 07:41:21|   7| 14|  46|   11|2018|  false|\n|2018-11-14 07:45:41|   7| 14|  46|   11|2018|  false|\n|2018-11-14 08:57:51|   8| 14|  46|   11|2018|  false|\n|2018-11-14 10:29:37|  10| 14|  46|   11|2018|  false|\n+-------------------+----+---+----+-----+----+-------+\nonly showing top 5 rows\n\nroot\n |-- start_time: string (nullable = true)\n |-- hour: integer (nullable = true)\n |-- day: integer (nullable = true)\n |-- week: integer (nullable = true)\n |-- month: integer (nullable = true)\n |-- year: integer (nullable = true)\n |-- weekday: boolean (nullable = false)\n\n"
     ],
     "output_type": "stream"
    }
   ],
   "source": [
    "time_extract = \"\"\"\n",
    "SELECT t1.timestamp_temp AS start_time,\n",
    "    hour(t1.timestamp_temp) AS hour,\n",
    "    dayofmonth(t1.timestamp_temp) AS day,\n",
    "    weekofyear(t1.timestamp_temp) AS week,\n",
    "    month(t1.timestamp_temp) AS month,\n",
    "    year(t1.timestamp_temp) AS year,\n",
    "    CASE WHEN dayofweek(t1.timestamp_temp) IN (6, 7) THEN True ELSE False END\n",
    "     AS \n",
    "    weekday\n",
    "FROM \n",
    "    (SELECT from_unixtime(ts/1000, 'YYYY-MM-dd hh:mm:ss') AS timestamp_temp \n",
    "    FROM log_data) t1\n",
    "\"\"\"\n",
    "time_tbl_data = spark.sql(time_extract)\n",
    "time_tbl_data.show(5)\n",
    "time_tbl_data.printSchema()"
   ],
   "metadata": {
    "collapsed": false,
    "pycharm": {
     "name": "#%%\n",
     "is_executing": false
    }
   }
  },
  {
   "cell_type": "code",
   "execution_count": 22,
   "outputs": [
    {
     "name": "stdout",
     "text": [
      "+-------------------+-------+-----+------------------+------------------+----------+--------------------+--------------------+\n|         start_time|user_id|level|           song_id|         artist_id|session_id|            location|          user_agent|\n+-------------------+-------+-----+------------------+------------------+----------+--------------------+--------------------+\n|2018-11-21 04:56:47|     15| paid|SOZCTXZ12AB0182364|AR5KOSW1187FB35FF4|       818|Chicago-Napervill...|\"Mozilla/5.0 (X11...|\n+-------------------+-------+-----+------------------+------------------+----------+--------------------+--------------------+\n\nroot\n |-- start_time: timestamp (nullable = true)\n |-- user_id: string (nullable = true)\n |-- level: string (nullable = true)\n |-- song_id: string (nullable = true)\n |-- artist_id: string (nullable = true)\n |-- session_id: long (nullable = true)\n |-- location: string (nullable = true)\n |-- user_agent: string (nullable = true)\n\n"
     ],
     "output_type": "stream"
    }
   ],
   "source": [
    "# Extract songsplay table data and store it in parquet format\n",
    "songsplay_extract = \"\"\"\n",
    "SELECT CAST(log_temp.start_time AS TIMESTAMP) AS start_time,\n",
    "    log_temp.user_id,\n",
    "    log_temp.level,\n",
    "    song_temp.song_id,\n",
    "    song_temp.artist_id,\n",
    "    log_temp.session_id,\n",
    "    log_temp.location,\n",
    "    log_temp.user_agent\n",
    "FROM (SELECT from_unixtime(ts/1000, 'YYYY-MM-dd hh:mm:ss') AS start_time,\n",
    "        userId AS user_id,\n",
    "        level,\n",
    "        song,\n",
    "        artist,\n",
    "        location,\n",
    "        sessionId AS session_id,\n",
    "        userAgent AS user_agent\n",
    "    FROM log_data) log_temp\n",
    "JOIN\n",
    "    (SELECT song_id,\n",
    "        artist_id,\n",
    "        artist_name,\n",
    "        title\n",
    "    FROM song_data) song_temp\n",
    "ON log_temp.song = song_temp.title\n",
    "AND log_temp.artist = song_temp.artist_name\n",
    "\"\"\"\n",
    "songsplay_tbl = spark.sql(songsplay_extract)\n",
    "songsplay_tbl.show(5)\n",
    "songsplay_tbl.printSchema()\n",
    "# songsplay_tbl.write.parquet(\"Transformed_data/songsplay.parquet\")\n",
    "\n"
   ],
   "metadata": {
    "collapsed": false,
    "pycharm": {
     "name": "#%%\n",
     "is_executing": false
    }
   }
  },
  {
   "cell_type": "code",
   "execution_count": 8,
   "outputs": [],
   "source": [
    "\n"
   ],
   "metadata": {
    "collapsed": false,
    "pycharm": {
     "name": "#%%\n",
     "is_executing": false
    }
   }
  }
 ],
 "metadata": {
  "language_info": {
   "codemirror_mode": {
    "name": "ipython",
    "version": 2
   },
   "file_extension": ".py",
   "mimetype": "text/x-python",
   "name": "python",
   "nbconvert_exporter": "python",
   "pygments_lexer": "ipython2",
   "version": "2.7.6"
  },
  "kernelspec": {
   "name": "python3",
   "language": "python",
   "display_name": "Python 3"
  },
  "pycharm": {
   "stem_cell": {
    "cell_type": "raw",
    "source": [],
    "metadata": {
     "collapsed": false
    }
   }
  }
 },
 "nbformat": 4,
 "nbformat_minor": 0
}